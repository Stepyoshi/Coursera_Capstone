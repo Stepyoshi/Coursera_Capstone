{
    "cells": [
        {
            "cell_type": "markdown",
            "metadata": {
                "collapsed": true
            },
            "source": "# Battle of the Neighborhoods - Data"
        },
        {
            "cell_type": "markdown",
            "metadata": {},
            "source": "For this project I will need the list of postal codes and neighborhoods in Toronto, which will be scrapped from the following Wikipedia page:\n\nhttps://en.wikipedia.org/w/index.php?title=List_of_postal_codes_of_Canada:_M"
        },
        {
            "cell_type": "markdown",
            "metadata": {},
            "source": "This data will be merged with the geographical coordinates obtained from https://cocl.us/Geospatial_data"
        },
        {
            "cell_type": "markdown",
            "metadata": {},
            "source": "\n\nWe will use the Foursquare API to obtain information about the characteristics of the neighborhoods. This API allows us to discover and analyze venues in an area of interest, so we will use this data to gain an insight on the different areas in Downtown Toronto by finding out venues locations in a certain radius. For each neighborhood we will limit the radius of analysis to 500 meters and the first 100 results."
        },
        {
            "cell_type": "markdown",
            "metadata": {},
            "source": "For this project I will need the list of postal codes and neighborhoods in Toronto, which will be scrapped from the Wikipedia page \\href{https://en.wikipedia.org/w/index.php?title=List_of_postal_codes_of_Canada:_M}{List of postal codes of Canada: M}, along with their geographical coordinates that I will obtain from \\href{https://cocl.us/Geospatial_data}{Geospatial data}. Using the Foursquare API, I will obtain information about the venues in the area of interest in order to find Italian restaurants in Downtown Toronto."
        }
    ],
    "metadata": {
        "kernelspec": {
            "display_name": "Python 3.7",
            "language": "python",
            "name": "python3"
        },
        "language_info": {
            "codemirror_mode": {
                "name": "ipython",
                "version": 3
            },
            "file_extension": ".py",
            "mimetype": "text/x-python",
            "name": "python",
            "nbconvert_exporter": "python",
            "pygments_lexer": "ipython3",
            "version": "3.7.10"
        }
    },
    "nbformat": 4,
    "nbformat_minor": 1
}