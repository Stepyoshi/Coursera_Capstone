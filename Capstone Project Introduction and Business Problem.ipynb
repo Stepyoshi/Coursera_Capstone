{
    "cells": [
        {
            "cell_type": "markdown",
            "metadata": {},
            "source": "# Battle of the Neighborhoods - Introduction and Business Problem"
        },
        {
            "cell_type": "markdown",
            "metadata": {},
            "source": "This is the final project in the IBM Data Science Professional Certificate. In this project I explore facilities in the Downtown Toronto area, focusing my attention on Italian restaurants. Here I take the role of an entrepreneur based in Canada who is aiming to open an Italian restaurant in the central business district of Toronto but, knowing that competition may be high in such a crowded place, I use data science methods and machine learning algorithms to find the best location to open my activity. So, this project is aimed to anyone who wants to open an Italian restaurant in the Downtown Toronto area.\n\nTo solve this problem, we will make use of the Foursquare API to obtain information about the venues in the area of interest in order to find Italian restaurants in Downtown Toronto."
        }
    ],
    "metadata": {
        "kernelspec": {
            "display_name": "Python 3.7",
            "language": "python",
            "name": "python3"
        },
        "language_info": {
            "codemirror_mode": {
                "name": "ipython",
                "version": 3
            },
            "file_extension": ".py",
            "mimetype": "text/x-python",
            "name": "python",
            "nbconvert_exporter": "python",
            "pygments_lexer": "ipython3",
            "version": "3.7.10"
        }
    },
    "nbformat": 4,
    "nbformat_minor": 1
}